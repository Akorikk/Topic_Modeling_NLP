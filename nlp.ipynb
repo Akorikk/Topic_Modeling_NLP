{
 "cells": [
  {
   "cell_type": "code",
   "execution_count": 1,
   "metadata": {},
   "outputs": [],
   "source": [
    "import pandas as pd \n",
    "import numpy as np \n",
    "import re"
   ]
  },
  {
   "cell_type": "code",
   "execution_count": 3,
   "metadata": {},
   "outputs": [],
   "source": [
    "file_path=(r\"C:\\Users\\abhis\\Downloads\\archive (16)\\dataset.csv\")\n",
    "df = pd.read_csv(file_path).sample(frac=0.01, random_state=42)"
   ]
  },
  {
   "cell_type": "code",
   "execution_count": 4,
   "metadata": {},
   "outputs": [
    {
     "data": {
      "text/plain": [
       "(64171, 5)"
      ]
     },
     "execution_count": 4,
     "metadata": {},
     "output_type": "execute_result"
    }
   ],
   "source": [
    "df.shape"
   ]
  },
  {
   "cell_type": "code",
   "execution_count": 5,
   "metadata": {},
   "outputs": [
    {
     "data": {
      "text/html": [
       "<div>\n",
       "<style scoped>\n",
       "    .dataframe tbody tr th:only-of-type {\n",
       "        vertical-align: middle;\n",
       "    }\n",
       "\n",
       "    .dataframe tbody tr th {\n",
       "        vertical-align: top;\n",
       "    }\n",
       "\n",
       "    .dataframe thead th {\n",
       "        text-align: right;\n",
       "    }\n",
       "</style>\n",
       "<table border=\"1\" class=\"dataframe\">\n",
       "  <thead>\n",
       "    <tr style=\"text-align: right;\">\n",
       "      <th></th>\n",
       "      <th>app_id</th>\n",
       "      <th>app_name</th>\n",
       "      <th>review_text</th>\n",
       "      <th>review_score</th>\n",
       "      <th>review_votes</th>\n",
       "    </tr>\n",
       "  </thead>\n",
       "  <tbody>\n",
       "    <tr>\n",
       "      <th>301327</th>\n",
       "      <td>12210</td>\n",
       "      <td>Grand Theft Auto IV: The Complete Edition</td>\n",
       "      <td>Best bowling simulator 2014 10/10 It has good ...</td>\n",
       "      <td>1</td>\n",
       "      <td>1</td>\n",
       "    </tr>\n",
       "    <tr>\n",
       "      <th>1662500</th>\n",
       "      <td>226320</td>\n",
       "      <td>Marvel Heroes Omega</td>\n",
       "      <td>Marvel characters? Check. Tons of loot? Check....</td>\n",
       "      <td>1</td>\n",
       "      <td>0</td>\n",
       "    </tr>\n",
       "    <tr>\n",
       "      <th>2061157</th>\n",
       "      <td>236450</td>\n",
       "      <td>PAC-MAN Championship Edition DX+</td>\n",
       "      <td>This game while its not the original is defina...</td>\n",
       "      <td>1</td>\n",
       "      <td>0</td>\n",
       "    </tr>\n",
       "    <tr>\n",
       "      <th>1171799</th>\n",
       "      <td>218620</td>\n",
       "      <td>PAYDAY 2</td>\n",
       "      <td>This game ♥♥♥♥ing awesome ,You can be professi...</td>\n",
       "      <td>1</td>\n",
       "      <td>0</td>\n",
       "    </tr>\n",
       "    <tr>\n",
       "      <th>1450080</th>\n",
       "      <td>221640</td>\n",
       "      <td>Super Hexagon</td>\n",
       "      <td>If you are high, play this game. 420/420 would...</td>\n",
       "      <td>1</td>\n",
       "      <td>0</td>\n",
       "    </tr>\n",
       "  </tbody>\n",
       "</table>\n",
       "</div>"
      ],
      "text/plain": [
       "         app_id                                   app_name  \\\n",
       "301327    12210  Grand Theft Auto IV: The Complete Edition   \n",
       "1662500  226320                        Marvel Heroes Omega   \n",
       "2061157  236450           PAC-MAN Championship Edition DX+   \n",
       "1171799  218620                                   PAYDAY 2   \n",
       "1450080  221640                              Super Hexagon   \n",
       "\n",
       "                                               review_text  review_score  \\\n",
       "301327   Best bowling simulator 2014 10/10 It has good ...             1   \n",
       "1662500  Marvel characters? Check. Tons of loot? Check....             1   \n",
       "2061157  This game while its not the original is defina...             1   \n",
       "1171799  This game ♥♥♥♥ing awesome ,You can be professi...             1   \n",
       "1450080  If you are high, play this game. 420/420 would...             1   \n",
       "\n",
       "         review_votes  \n",
       "301327              1  \n",
       "1662500             0  \n",
       "2061157             0  \n",
       "1171799             0  \n",
       "1450080             0  "
      ]
     },
     "execution_count": 5,
     "metadata": {},
     "output_type": "execute_result"
    }
   ],
   "source": [
    "df.head()"
   ]
  },
  {
   "cell_type": "code",
   "execution_count": 6,
   "metadata": {},
   "outputs": [
    {
     "name": "stdout",
     "output_type": "stream",
     "text": [
      "Marvel characters? Check. Tons of loot? Check. Tons of characters/classes? Check. Interesting events? Check. LFG? GTFO, You can solo this. Marvel fan? Diablo fan? Good this is for you. Not a marvel fan? Still better than D3 (2013).\n"
     ]
    }
   ],
   "source": [
    "print(df.iloc[1][\"review_text\"]) \n"
   ]
  },
  {
   "cell_type": "code",
   "execution_count": 7,
   "metadata": {},
   "outputs": [
    {
     "data": {
      "text/plain": [
       "review_score\n",
       " 1    52649\n",
       "-1    11522\n",
       "Name: count, dtype: int64"
      ]
     },
     "execution_count": 7,
     "metadata": {},
     "output_type": "execute_result"
    }
   ],
   "source": [
    "df['review_score'].value_counts()"
   ]
  },
  {
   "cell_type": "code",
   "execution_count": 8,
   "metadata": {},
   "outputs": [
    {
     "data": {
      "text/plain": [
       "(64171, 5)"
      ]
     },
     "execution_count": 8,
     "metadata": {},
     "output_type": "execute_result"
    }
   ],
   "source": [
    "df.shape"
   ]
  },
  {
   "cell_type": "code",
   "execution_count": 9,
   "metadata": {},
   "outputs": [
    {
     "data": {
      "text/plain": [
       "app_id             0\n",
       "app_name        1874\n",
       "review_text       73\n",
       "review_score       0\n",
       "review_votes       0\n",
       "dtype: int64"
      ]
     },
     "execution_count": 9,
     "metadata": {},
     "output_type": "execute_result"
    }
   ],
   "source": [
    "df.isnull().sum()"
   ]
  },
  {
   "cell_type": "code",
   "execution_count": 10,
   "metadata": {},
   "outputs": [
    {
     "name": "stdout",
     "output_type": "stream",
     "text": [
      "<class 'pandas.core.frame.DataFrame'>\n",
      "Index: 64171 entries, 301327 to 714816\n",
      "Data columns (total 5 columns):\n",
      " #   Column        Non-Null Count  Dtype \n",
      "---  ------        --------------  ----- \n",
      " 0   app_id        64171 non-null  int64 \n",
      " 1   app_name      62297 non-null  object\n",
      " 2   review_text   64098 non-null  object\n",
      " 3   review_score  64171 non-null  int64 \n",
      " 4   review_votes  64171 non-null  int64 \n",
      "dtypes: int64(3), object(2)\n",
      "memory usage: 2.9+ MB\n"
     ]
    }
   ],
   "source": [
    "df.info()"
   ]
  },
  {
   "cell_type": "code",
   "execution_count": 11,
   "metadata": {},
   "outputs": [
    {
     "data": {
      "text/html": [
       "<div>\n",
       "<style scoped>\n",
       "    .dataframe tbody tr th:only-of-type {\n",
       "        vertical-align: middle;\n",
       "    }\n",
       "\n",
       "    .dataframe tbody tr th {\n",
       "        vertical-align: top;\n",
       "    }\n",
       "\n",
       "    .dataframe thead th {\n",
       "        text-align: right;\n",
       "    }\n",
       "</style>\n",
       "<table border=\"1\" class=\"dataframe\">\n",
       "  <thead>\n",
       "    <tr style=\"text-align: right;\">\n",
       "      <th></th>\n",
       "      <th>app_id</th>\n",
       "      <th>app_name</th>\n",
       "      <th>review_text</th>\n",
       "      <th>review_score</th>\n",
       "      <th>review_votes</th>\n",
       "    </tr>\n",
       "  </thead>\n",
       "  <tbody>\n",
       "    <tr>\n",
       "      <th>301327</th>\n",
       "      <td>12210</td>\n",
       "      <td>Grand Theft Auto IV: The Complete Edition</td>\n",
       "      <td>Best bowling simulator 2014 10/10 It has good ...</td>\n",
       "      <td>1</td>\n",
       "      <td>1</td>\n",
       "    </tr>\n",
       "    <tr>\n",
       "      <th>1662500</th>\n",
       "      <td>226320</td>\n",
       "      <td>Marvel Heroes Omega</td>\n",
       "      <td>Marvel characters? Check. Tons of loot? Check....</td>\n",
       "      <td>1</td>\n",
       "      <td>0</td>\n",
       "    </tr>\n",
       "    <tr>\n",
       "      <th>2061157</th>\n",
       "      <td>236450</td>\n",
       "      <td>PAC-MAN Championship Edition DX+</td>\n",
       "      <td>This game while its not the original is defina...</td>\n",
       "      <td>1</td>\n",
       "      <td>0</td>\n",
       "    </tr>\n",
       "    <tr>\n",
       "      <th>1171799</th>\n",
       "      <td>218620</td>\n",
       "      <td>PAYDAY 2</td>\n",
       "      <td>This game ♥♥♥♥ing awesome ,You can be professi...</td>\n",
       "      <td>1</td>\n",
       "      <td>0</td>\n",
       "    </tr>\n",
       "    <tr>\n",
       "      <th>1450080</th>\n",
       "      <td>221640</td>\n",
       "      <td>Super Hexagon</td>\n",
       "      <td>If you are high, play this game. 420/420 would...</td>\n",
       "      <td>1</td>\n",
       "      <td>0</td>\n",
       "    </tr>\n",
       "  </tbody>\n",
       "</table>\n",
       "</div>"
      ],
      "text/plain": [
       "         app_id                                   app_name  \\\n",
       "301327    12210  Grand Theft Auto IV: The Complete Edition   \n",
       "1662500  226320                        Marvel Heroes Omega   \n",
       "2061157  236450           PAC-MAN Championship Edition DX+   \n",
       "1171799  218620                                   PAYDAY 2   \n",
       "1450080  221640                              Super Hexagon   \n",
       "\n",
       "                                               review_text  review_score  \\\n",
       "301327   Best bowling simulator 2014 10/10 It has good ...             1   \n",
       "1662500  Marvel characters? Check. Tons of loot? Check....             1   \n",
       "2061157  This game while its not the original is defina...             1   \n",
       "1171799  This game ♥♥♥♥ing awesome ,You can be professi...             1   \n",
       "1450080  If you are high, play this game. 420/420 would...             1   \n",
       "\n",
       "        review_votes  \n",
       "301327             1  \n",
       "1662500            0  \n",
       "2061157            0  \n",
       "1171799            0  \n",
       "1450080            0  "
      ]
     },
     "execution_count": 11,
     "metadata": {},
     "output_type": "execute_result"
    }
   ],
   "source": [
    "df[\"review_text\"] = df[\"review_text\"].astype(str)\n",
    "df[\"review_votes\"] = df[\"review_votes\"].astype(str)\n",
    "\n",
    "df.review_text = df.review_text.apply(lambda s : s.strip())\n",
    "df1 =df[df[\"review_score\"].notnull()]\n",
    "df1[\"review_score\"] = np.where(df1[\"review_score\"] == -1,0, df1[\"review_score\"])\n",
    "df1.head()"
   ]
  },
  {
   "cell_type": "code",
   "execution_count": 12,
   "metadata": {},
   "outputs": [
    {
     "data": {
      "text/plain": [
       "review_score\n",
       "1    52649\n",
       "0    11522\n",
       "Name: count, dtype: int64"
      ]
     },
     "execution_count": 12,
     "metadata": {},
     "output_type": "execute_result"
    }
   ],
   "source": [
    "df1[\"review_score\"].value_counts()"
   ]
  },
  {
   "cell_type": "code",
   "execution_count": 13,
   "metadata": {},
   "outputs": [],
   "source": [
    "df1 = df1[df1.review_text != \"Early Access Review\"]\n",
    "df1 = df1[~df1.review_text.isin(['nan'])]\n",
    "\n",
    "df1.drop_duplicates(['review_text', 'review_score'], inplace= True)\n"
   ]
  },
  {
   "cell_type": "code",
   "execution_count": 14,
   "metadata": {},
   "outputs": [
    {
     "data": {
      "text/html": [
       "<div>\n",
       "<style scoped>\n",
       "    .dataframe tbody tr th:only-of-type {\n",
       "        vertical-align: middle;\n",
       "    }\n",
       "\n",
       "    .dataframe tbody tr th {\n",
       "        vertical-align: top;\n",
       "    }\n",
       "\n",
       "    .dataframe thead th {\n",
       "        text-align: right;\n",
       "    }\n",
       "</style>\n",
       "<table border=\"1\" class=\"dataframe\">\n",
       "  <thead>\n",
       "    <tr style=\"text-align: right;\">\n",
       "      <th></th>\n",
       "      <th>app_id</th>\n",
       "      <th>app_name</th>\n",
       "      <th>review_text</th>\n",
       "      <th>review_score</th>\n",
       "      <th>review_votes</th>\n",
       "    </tr>\n",
       "  </thead>\n",
       "  <tbody>\n",
       "    <tr>\n",
       "      <th>301327</th>\n",
       "      <td>12210</td>\n",
       "      <td>Grand Theft Auto IV: The Complete Edition</td>\n",
       "      <td>Best bowling simulator 2014 10/10 It has good ...</td>\n",
       "      <td>1</td>\n",
       "      <td>1</td>\n",
       "    </tr>\n",
       "    <tr>\n",
       "      <th>1662500</th>\n",
       "      <td>226320</td>\n",
       "      <td>Marvel Heroes Omega</td>\n",
       "      <td>Marvel characters? Check. Tons of loot? Check....</td>\n",
       "      <td>1</td>\n",
       "      <td>0</td>\n",
       "    </tr>\n",
       "    <tr>\n",
       "      <th>2061157</th>\n",
       "      <td>236450</td>\n",
       "      <td>PAC-MAN Championship Edition DX+</td>\n",
       "      <td>This game while its not the original is defina...</td>\n",
       "      <td>1</td>\n",
       "      <td>0</td>\n",
       "    </tr>\n",
       "    <tr>\n",
       "      <th>1171799</th>\n",
       "      <td>218620</td>\n",
       "      <td>PAYDAY 2</td>\n",
       "      <td>This game ♥♥♥♥ing awesome ,You can be professi...</td>\n",
       "      <td>1</td>\n",
       "      <td>0</td>\n",
       "    </tr>\n",
       "    <tr>\n",
       "      <th>1450080</th>\n",
       "      <td>221640</td>\n",
       "      <td>Super Hexagon</td>\n",
       "      <td>If you are high, play this game. 420/420 would...</td>\n",
       "      <td>1</td>\n",
       "      <td>0</td>\n",
       "    </tr>\n",
       "  </tbody>\n",
       "</table>\n",
       "</div>"
      ],
      "text/plain": [
       "         app_id                                   app_name  \\\n",
       "301327    12210  Grand Theft Auto IV: The Complete Edition   \n",
       "1662500  226320                        Marvel Heroes Omega   \n",
       "2061157  236450           PAC-MAN Championship Edition DX+   \n",
       "1171799  218620                                   PAYDAY 2   \n",
       "1450080  221640                              Super Hexagon   \n",
       "\n",
       "                                               review_text  review_score  \\\n",
       "301327   Best bowling simulator 2014 10/10 It has good ...             1   \n",
       "1662500  Marvel characters? Check. Tons of loot? Check....             1   \n",
       "2061157  This game while its not the original is defina...             1   \n",
       "1171799  This game ♥♥♥♥ing awesome ,You can be professi...             1   \n",
       "1450080  If you are high, play this game. 420/420 would...             1   \n",
       "\n",
       "        review_votes  \n",
       "301327             1  \n",
       "1662500            0  \n",
       "2061157            0  \n",
       "1171799            0  \n",
       "1450080            0  "
      ]
     },
     "execution_count": 14,
     "metadata": {},
     "output_type": "execute_result"
    }
   ],
   "source": [
    "df1.head()"
   ]
  },
  {
   "cell_type": "code",
   "execution_count": 15,
   "metadata": {},
   "outputs": [
    {
     "data": {
      "text/plain": [
       "(52933, 5)"
      ]
     },
     "execution_count": 15,
     "metadata": {},
     "output_type": "execute_result"
    }
   ],
   "source": [
    "df1.shape"
   ]
  },
  {
   "cell_type": "code",
   "execution_count": 16,
   "metadata": {},
   "outputs": [
    {
     "name": "stdout",
     "output_type": "stream",
     "text": [
      "                                               review_text  \\\n",
      "1171799  This game ♥♥♥♥ing awesome ,You can be professi...   \n",
      "3403956  I hope the game is good, but I CAN'T EVEN STAR...   \n",
      "1052101  Once a good game, then turned to ♥♥♥♥ by a 'ba...   \n",
      "2549863  'God, I'm going fast...God, that was close...G...   \n",
      "2953816  -Buy game during sale -buy it for your friend ...   \n",
      "...                                                    ...   \n",
      "257669   Greatest replay simulater of 2017  666/♥♥♥♥ wo...   \n",
      "1649929  Hewn from the living rock, this is truely Meta...   \n",
      "5289330  I see potential for this dev team to make even...   \n",
      "2211688  Beat this game in 4 hours (including time alt ...   \n",
      "6136286  Its ♥♥♥♥ing anime trash but overall it is a ho...   \n",
      "\n",
      "                                         emojis_found  \n",
      "1171799                                          ♥♥♥♥  \n",
      "3403956                                          ♥♥♥♥  \n",
      "1052101                                          ♥♥♥♥  \n",
      "2549863                                          ♥♥♥♥  \n",
      "2953816                                          ♥♥♥♥  \n",
      "...                                               ...  \n",
      "257669                                           ♥♥♥♥  \n",
      "1649929                                           ♥♥♥  \n",
      "5289330                                      ♥♥♥♥♥♥♥♥  \n",
      "2211688  ♥♥♥♥♥♥♥♥♥♥♥♥♥♥♥♥♥♥♥♥♥♥♥♥♥♥♥♥♥♥♥♥♥♥♥♥♥♥♥♥♥♥♥♥  \n",
      "6136286                                          ♥♥♥♥  \n",
      "\n",
      "[3604 rows x 2 columns]\n"
     ]
    }
   ],
   "source": [
    "import emoji\n",
    "\n",
    "def extract_emojis(text):\n",
    "    return \"\".join(char for char in str(text) if char in emoji.EMOJI_DATA)\n",
    "\n",
    "df1['emojis_found'] = df1['review_text'].apply(extract_emojis)\n",
    "\n",
    "# Show only rows that have emojis\n",
    "df_reviews_with_emojis = df1[df1['emojis_found'] != '']\n",
    "print(df_reviews_with_emojis[['review_text', 'emojis_found']])"
   ]
  },
  {
   "cell_type": "code",
   "execution_count": 17,
   "metadata": {},
   "outputs": [],
   "source": [
    "def replace_hearts_with_PAD(text):\n",
    "    return re.sub(r\"[♥]+\", ' **** ' ,text)"
   ]
  },
  {
   "cell_type": "code",
   "execution_count": 18,
   "metadata": {},
   "outputs": [],
   "source": [
    "def clean(raw):\n",
    "    \"\"\" Remove hyperlinks and markup \"\"\"\n",
    "    result = re.sub(\"<[a][^>]*>(.+?)</[a]>\", 'Link.', raw)\n",
    "    result = re.sub('&gt;', \"\", result)\n",
    "    result = re.sub('&#x27;', \"'\", result)\n",
    "    result = re.sub('&quot;', '\"', result)\n",
    "    result = re.sub('&#x2F;', ' ', result)\n",
    "    result = re.sub('<p>', ' ', result)\n",
    "    result = re.sub('</i>', '', result)\n",
    "    result = re.sub('&#62;', '', result)\n",
    "    result = re.sub('<i>', ' ', result)\n",
    "    result = re.sub(\"\\n\", '', result)\n",
    "    return result"
   ]
  },
  {
   "cell_type": "code",
   "execution_count": 19,
   "metadata": {},
   "outputs": [],
   "source": [
    "def deEmojify(x):\n",
    "    regrex_pattern = re.compile(pattern = \"[\"\n",
    "        u\"\\U0001F600-\\U0001F64F\"  # emoticons\n",
    "        u\"\\U0001F300-\\U0001F5FF\"  # symbols & pictographs\n",
    "        u\"\\U0001F680-\\U0001F6FF\"  # transport & map symbols\n",
    "        u\"\\U0001F1E0-\\U0001F1FF\"  # flags (iOS)\n",
    "                           \"]+\", flags = re.UNICODE)\n",
    "    return regrex_pattern.sub(r'', x)"
   ]
  },
  {
   "cell_type": "code",
   "execution_count": 20,
   "metadata": {},
   "outputs": [],
   "source": [
    "def remove_num(texts):\n",
    "    output = re.sub(r'\\d+', '', texts )\n",
    "    return output"
   ]
  },
  {
   "cell_type": "code",
   "execution_count": 21,
   "metadata": {},
   "outputs": [],
   "source": [
    "def unify_whitespaces(text):\n",
    "    cleaned_string = re.sub(' +', ' ', text )\n",
    "    return cleaned_string"
   ]
  },
  {
   "cell_type": "code",
   "execution_count": 22,
   "metadata": {},
   "outputs": [],
   "source": [
    "def remove_punctuation(text):\n",
    "    result = \"\".join(u for u in text if u not in (\"?\", \".\", \";\", \":\",  \"!\",'\"',',') )\n",
    "    return result"
   ]
  },
  {
   "cell_type": "code",
   "execution_count": 23,
   "metadata": {},
   "outputs": [],
   "source": [
    "import spacy\n",
    "from spacy.lang.en.stop_words import STOP_WORDS\n",
    "\n",
    "nlp = spacy.load(\"en_core_web_sm\")\n",
    "\n",
    "def remove_stopwords(text):\n",
    "    doc = nlp(text)\n",
    "    text = [token.text.lower() for token in doc if token.text.lower() not in STOP_WORDS]\n",
    "    return ' '.join(text)"
   ]
  },
  {
   "cell_type": "code",
   "execution_count": 30,
   "metadata": {},
   "outputs": [],
   "source": [
    "from spacy.lang.en.stop_words import STOP_WORDS\n",
    "\n",
    "nlp = spacy.load(\"en_core_web_sm\")\n",
    "\n",
    "def lemmatization(text):\n",
    "    \"\"\" Lemmatize using spaCy \"\"\"\n",
    "    doc = nlp(text)\n",
    "    return ' '.join([token.lemma_ for token in doc])\n"
   ]
  },
  {
   "cell_type": "code",
   "execution_count": 31,
   "metadata": {},
   "outputs": [
    {
     "name": "stderr",
     "output_type": "stream",
     "text": [
      "Pandas Apply: 100%|██████████| 52933/52933 [31:15<00:00, 28.22it/s]  \n"
     ]
    }
   ],
   "source": [
    "import swifter  \n",
    "\n",
    "def full_cleaning_pipeline(text):\n",
    "    text = clean(text)\n",
    "    text = deEmojify(text)\n",
    "    text = replace_hearts_with_PAD(text)\n",
    "    text = remove_num(text)\n",
    "    text = remove_punctuation(text)\n",
    "    text = remove_stopwords(text)\n",
    "    text = unify_whitespaces(text)\n",
    "    text = lemmatization(text)\n",
    "    return text\n",
    "\n",
    "def cleaning(df, review):\n",
    "    df_processed = df.copy()\n",
    "    df_processed[review] = df_processed['review_text']\n",
    "    \n",
    "    df_processed[review] = df_processed[review].swifter.apply(full_cleaning_pipeline)\n",
    "    \n",
    "    return df_processed\n",
    "\n",
    "df_processed = cleaning(df1, 'review_text_clean')\n"
   ]
  },
  {
   "cell_type": "code",
   "execution_count": 34,
   "metadata": {},
   "outputs": [
    {
     "data": {
      "text/html": [
       "<div>\n",
       "<style scoped>\n",
       "    .dataframe tbody tr th:only-of-type {\n",
       "        vertical-align: middle;\n",
       "    }\n",
       "\n",
       "    .dataframe tbody tr th {\n",
       "        vertical-align: top;\n",
       "    }\n",
       "\n",
       "    .dataframe thead th {\n",
       "        text-align: right;\n",
       "    }\n",
       "</style>\n",
       "<table border=\"1\" class=\"dataframe\">\n",
       "  <thead>\n",
       "    <tr style=\"text-align: right;\">\n",
       "      <th></th>\n",
       "      <th>app_id</th>\n",
       "      <th>app_name</th>\n",
       "      <th>review_text</th>\n",
       "      <th>review_score</th>\n",
       "      <th>review_votes</th>\n",
       "      <th>emojis_found</th>\n",
       "      <th>review_text_clean</th>\n",
       "    </tr>\n",
       "  </thead>\n",
       "  <tbody>\n",
       "    <tr>\n",
       "      <th>301327</th>\n",
       "      <td>12210</td>\n",
       "      <td>Grand Theft Auto IV: The Complete Edition</td>\n",
       "      <td>Best bowling simulator 2014 10/10 It has good ...</td>\n",
       "      <td>1</td>\n",
       "      <td>1</td>\n",
       "      <td></td>\n",
       "      <td>good bowl simulator good storyline</td>\n",
       "    </tr>\n",
       "    <tr>\n",
       "      <th>1662500</th>\n",
       "      <td>226320</td>\n",
       "      <td>Marvel Heroes Omega</td>\n",
       "      <td>Marvel characters? Check. Tons of loot? Check....</td>\n",
       "      <td>1</td>\n",
       "      <td>0</td>\n",
       "      <td></td>\n",
       "      <td>marvel character check ton loot check ton char...</td>\n",
       "    </tr>\n",
       "    <tr>\n",
       "      <th>2061157</th>\n",
       "      <td>236450</td>\n",
       "      <td>PAC-MAN Championship Edition DX+</td>\n",
       "      <td>This game while its not the original is defina...</td>\n",
       "      <td>1</td>\n",
       "      <td>0</td>\n",
       "      <td></td>\n",
       "      <td>game original definately good rendition PACMAN...</td>\n",
       "    </tr>\n",
       "    <tr>\n",
       "      <th>1171799</th>\n",
       "      <td>218620</td>\n",
       "      <td>PAYDAY 2</td>\n",
       "      <td>This game ♥♥♥♥ing awesome ,You can be professi...</td>\n",
       "      <td>1</td>\n",
       "      <td>0</td>\n",
       "      <td>♥♥♥♥</td>\n",
       "      <td>game e awesome professional Heister fun play f...</td>\n",
       "    </tr>\n",
       "    <tr>\n",
       "      <th>1450080</th>\n",
       "      <td>221640</td>\n",
       "      <td>Super Hexagon</td>\n",
       "      <td>If you are high, play this game. 420/420 would...</td>\n",
       "      <td>1</td>\n",
       "      <td>0</td>\n",
       "      <td></td>\n",
       "      <td>high play game dank</td>\n",
       "    </tr>\n",
       "  </tbody>\n",
       "</table>\n",
       "</div>"
      ],
      "text/plain": [
       "         app_id                                   app_name  \\\n",
       "301327    12210  Grand Theft Auto IV: The Complete Edition   \n",
       "1662500  226320                        Marvel Heroes Omega   \n",
       "2061157  236450           PAC-MAN Championship Edition DX+   \n",
       "1171799  218620                                   PAYDAY 2   \n",
       "1450080  221640                              Super Hexagon   \n",
       "\n",
       "                                               review_text  review_score  \\\n",
       "301327   Best bowling simulator 2014 10/10 It has good ...             1   \n",
       "1662500  Marvel characters? Check. Tons of loot? Check....             1   \n",
       "2061157  This game while its not the original is defina...             1   \n",
       "1171799  This game ♥♥♥♥ing awesome ,You can be professi...             1   \n",
       "1450080  If you are high, play this game. 420/420 would...             1   \n",
       "\n",
       "        review_votes emojis_found  \\\n",
       "301327             1                \n",
       "1662500            0                \n",
       "2061157            0                \n",
       "1171799            0         ♥♥♥♥   \n",
       "1450080            0                \n",
       "\n",
       "                                         review_text_clean  \n",
       "301327                  good bowl simulator good storyline  \n",
       "1662500  marvel character check ton loot check ton char...  \n",
       "2061157  game original definately good rendition PACMAN...  \n",
       "1171799  game e awesome professional Heister fun play f...  \n",
       "1450080                                high play game dank  "
      ]
     },
     "execution_count": 34,
     "metadata": {},
     "output_type": "execute_result"
    }
   ],
   "source": [
    "df_processed.head()"
   ]
  },
  {
   "cell_type": "code",
   "execution_count": 37,
   "metadata": {},
   "outputs": [
    {
     "data": {
      "text/plain": [
       "'marvel character check ton loot check ton charactersclasse check interesting event check LFG GTFO solo Marvel fan Diablo fan Good marvel fan well d'"
      ]
     },
     "execution_count": 37,
     "metadata": {},
     "output_type": "execute_result"
    }
   ],
   "source": [
    "df_processed['review_text_clean'].iloc[1]"
   ]
  },
  {
   "cell_type": "code",
   "execution_count": 42,
   "metadata": {},
   "outputs": [
    {
     "name": "stdout",
     "output_type": "stream",
     "text": [
      "I love programming **\n"
     ]
    }
   ],
   "source": [
    "import emoji\n",
    "\n",
    "def replace_emoji_with_asterisk(text):\n",
    "    return ''.join('*' if emoji.is_emoji(char) else char for char in text)\n",
    "\n",
    "text = \"I love programming 😍🎉\"\n",
    "cleaned_text = replace_emoji_with_asterisk(text)\n",
    "print(cleaned_text)      "
   ]
  },
  {
   "cell_type": "code",
   "execution_count": 43,
   "metadata": {},
   "outputs": [],
   "source": [
    "reviews = df_processed[df_processed.review_score == 0]\n",
    "reviews = reviews.sample(n = 2000, random_state = 1234)\n",
    "rev = reviews.review_text_clean.tolist()"
   ]
  },
  {
   "cell_type": "code",
   "execution_count": 46,
   "metadata": {},
   "outputs": [
    {
     "name": "stdout",
     "output_type": "stream",
     "text": [
      "(2000, 7)\n"
     ]
    }
   ],
   "source": [
    "print(reviews.shape)"
   ]
  },
  {
   "cell_type": "code",
   "execution_count": 47,
   "metadata": {},
   "outputs": [
    {
     "data": {
      "text/html": [
       "<div>\n",
       "<style scoped>\n",
       "    .dataframe tbody tr th:only-of-type {\n",
       "        vertical-align: middle;\n",
       "    }\n",
       "\n",
       "    .dataframe tbody tr th {\n",
       "        vertical-align: top;\n",
       "    }\n",
       "\n",
       "    .dataframe thead th {\n",
       "        text-align: right;\n",
       "    }\n",
       "</style>\n",
       "<table border=\"1\" class=\"dataframe\">\n",
       "  <thead>\n",
       "    <tr style=\"text-align: right;\">\n",
       "      <th></th>\n",
       "      <th>app_id</th>\n",
       "      <th>app_name</th>\n",
       "      <th>review_text</th>\n",
       "      <th>review_score</th>\n",
       "      <th>review_votes</th>\n",
       "      <th>emojis_found</th>\n",
       "      <th>review_text_clean</th>\n",
       "    </tr>\n",
       "  </thead>\n",
       "  <tbody>\n",
       "    <tr>\n",
       "      <th>4221162</th>\n",
       "      <td>324260</td>\n",
       "      <td>VoidExpanse</td>\n",
       "      <td>The basics are there but this project is still...</td>\n",
       "      <td>0</td>\n",
       "      <td>0</td>\n",
       "      <td></td>\n",
       "      <td>basic project alpha stage good pro interesting...</td>\n",
       "    </tr>\n",
       "    <tr>\n",
       "      <th>4557387</th>\n",
       "      <td>349040</td>\n",
       "      <td>NARUTO SHIPPUDEN: Ultimate Ninja STORM 4</td>\n",
       "      <td>The game is locked at 30 FPS and sometimes goe...</td>\n",
       "      <td>0</td>\n",
       "      <td>0</td>\n",
       "      <td></td>\n",
       "      <td>game lock FPS go FPS advertise FPS game handle...</td>\n",
       "    </tr>\n",
       "    <tr>\n",
       "      <th>1793278</th>\n",
       "      <td>230410</td>\n",
       "      <td>Warframe</td>\n",
       "      <td>Boy oh BOY, where do I begin with this one? St...</td>\n",
       "      <td>0</td>\n",
       "      <td>0</td>\n",
       "      <td></td>\n",
       "      <td>boy oh BOY begin Strap folk get little lengthy...</td>\n",
       "    </tr>\n",
       "    <tr>\n",
       "      <th>98130</th>\n",
       "      <td>105600</td>\n",
       "      <td>Terraria</td>\n",
       "      <td>It's not minecraft</td>\n",
       "      <td>0</td>\n",
       "      <td>1</td>\n",
       "      <td></td>\n",
       "      <td>minecraft</td>\n",
       "    </tr>\n",
       "    <tr>\n",
       "      <th>2418335</th>\n",
       "      <td>243470</td>\n",
       "      <td>Watch_Dogs</td>\n",
       "      <td>Pros   -It works on windows 8/8.1  Cons  -LAGG...</td>\n",
       "      <td>0</td>\n",
       "      <td>0</td>\n",
       "      <td>♥♥♥♥</td>\n",
       "      <td>pro work window Cons laggy</td>\n",
       "    </tr>\n",
       "  </tbody>\n",
       "</table>\n",
       "</div>"
      ],
      "text/plain": [
       "         app_id                                  app_name  \\\n",
       "4221162  324260                               VoidExpanse   \n",
       "4557387  349040  NARUTO SHIPPUDEN: Ultimate Ninja STORM 4   \n",
       "1793278  230410                                  Warframe   \n",
       "98130    105600                                  Terraria   \n",
       "2418335  243470                                Watch_Dogs   \n",
       "\n",
       "                                               review_text  review_score  \\\n",
       "4221162  The basics are there but this project is still...             0   \n",
       "4557387  The game is locked at 30 FPS and sometimes goe...             0   \n",
       "1793278  Boy oh BOY, where do I begin with this one? St...             0   \n",
       "98130                                   It's not minecraft             0   \n",
       "2418335  Pros   -It works on windows 8/8.1  Cons  -LAGG...             0   \n",
       "\n",
       "        review_votes emojis_found  \\\n",
       "4221162            0                \n",
       "4557387            0                \n",
       "1793278            0                \n",
       "98130              1                \n",
       "2418335            0         ♥♥♥♥   \n",
       "\n",
       "                                         review_text_clean  \n",
       "4221162  basic project alpha stage good pro interesting...  \n",
       "4557387  game lock FPS go FPS advertise FPS game handle...  \n",
       "1793278  boy oh BOY begin Strap folk get little lengthy...  \n",
       "98130                                            minecraft  \n",
       "2418335                         pro work window Cons laggy  "
      ]
     },
     "execution_count": 47,
     "metadata": {},
     "output_type": "execute_result"
    }
   ],
   "source": [
    "reviews.head()"
   ]
  },
  {
   "cell_type": "code",
   "execution_count": null,
   "metadata": {},
   "outputs": [],
   "source": [
    "rev"
   ]
  },
  {
   "cell_type": "code",
   "execution_count": 51,
   "metadata": {},
   "outputs": [
    {
     "name": "stdout",
     "output_type": "stream",
     "text": [
      "1905\n"
     ]
    }
   ],
   "source": [
    "all_sents = []\n",
    "\n",
    "for intent in rev:\n",
    "    doc = nlp(intent)\n",
    "    for sent in doc.sents:\n",
    "        if len(sent.text.split()) > 5:\n",
    "            all_sents.append(sent.text)\n",
    "\n",
    "print(len(all_sents))\n",
    "rev = all_sents"
   ]
  },
  {
   "cell_type": "code",
   "execution_count": 53,
   "metadata": {},
   "outputs": [
    {
     "name": "stdout",
     "output_type": "stream",
     "text": [
      "WARNING:tensorflow:From c:\\Users\\abhis\\AppData\\Local\\anaconda3\\envs\\Topic\\lib\\site-packages\\tf_keras\\src\\losses.py:2976: The name tf.losses.sparse_softmax_cross_entropy is deprecated. Please use tf.compat.v1.losses.sparse_softmax_cross_entropy instead.\n",
      "\n"
     ]
    }
   ],
   "source": [
    "from sentence_transformers import SentenceTransformer\n",
    "import tensorflow as tf "
   ]
  },
  {
   "cell_type": "code",
   "execution_count": 55,
   "metadata": {},
   "outputs": [],
   "source": [
    "def embed(model, model_type, sentences ):\n",
    "    if model_type == 'use':\n",
    "        embeddings  = model(sentences)\n",
    "    elif model_type == 'sentence transformer':\n",
    "        embeddings = model.encode(sentences)\n",
    "        \n",
    "    return embeddings\n",
    "        \n",
    "model = SentenceTransformer('all-mpnet-base-v2', device='cpu' )\n",
    "\n",
    "embeddings = embed(model, 'sentence transformer', rev)"
   ]
  },
  {
   "cell_type": "code",
   "execution_count": 56,
   "metadata": {},
   "outputs": [
    {
     "data": {
      "text/plain": [
       "(1905, 768)"
      ]
     },
     "execution_count": 56,
     "metadata": {},
     "output_type": "execute_result"
    }
   ],
   "source": [
    "embeddings.shape"
   ]
  },
  {
   "cell_type": "code",
   "execution_count": 58,
   "metadata": {},
   "outputs": [],
   "source": [
    "from hyperopt import hp\n",
    "\n",
    "hspace = {\n",
    "    \"n_neighbors\": hp.choice('n_neighbors', range(3,32)),\n",
    "    \"n_components\": hp.choice('n_components', range(3,32)),\n",
    "    \"min_cluster_size\": hp.choice('min_cluster_size', range(2,32)),\n",
    "    \"random_state\": 42\n",
    "}\n",
    "\n",
    "label_lower = 10\n",
    "label_upper = 100\n",
    "max_evals = 25"
   ]
  },
  {
   "cell_type": "code",
   "execution_count": null,
   "metadata": {},
   "outputs": [],
   "source": []
  }
 ],
 "metadata": {
  "kernelspec": {
   "display_name": "Topic",
   "language": "python",
   "name": "python3"
  },
  "language_info": {
   "codemirror_mode": {
    "name": "ipython",
    "version": 3
   },
   "file_extension": ".py",
   "mimetype": "text/x-python",
   "name": "python",
   "nbconvert_exporter": "python",
   "pygments_lexer": "ipython3",
   "version": "3.9.21"
  }
 },
 "nbformat": 4,
 "nbformat_minor": 2
}
