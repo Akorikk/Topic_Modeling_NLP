{
 "cells": [
  {
   "cell_type": "code",
   "execution_count": 1,
   "metadata": {},
   "outputs": [],
   "source": [
    "import pandas as pd \n",
    "import numpy as np \n",
    "import re"
   ]
  },
  {
   "cell_type": "code",
   "execution_count": 2,
   "metadata": {},
   "outputs": [],
   "source": [
    "file_path=(r\"C:\\Users\\abhis\\Downloads\\archive (16)\\dataset.csv\")\n",
    "df = pd.read_csv(file_path).sample(frac=0.1, random_state=42)"
   ]
  },
  {
   "cell_type": "code",
   "execution_count": 3,
   "metadata": {},
   "outputs": [
    {
     "data": {
      "text/plain": [
       "(641711, 5)"
      ]
     },
     "execution_count": 3,
     "metadata": {},
     "output_type": "execute_result"
    }
   ],
   "source": [
    "df.shape"
   ]
  },
  {
   "cell_type": "code",
   "execution_count": 4,
   "metadata": {},
   "outputs": [
    {
     "data": {
      "text/html": [
       "<div>\n",
       "<style scoped>\n",
       "    .dataframe tbody tr th:only-of-type {\n",
       "        vertical-align: middle;\n",
       "    }\n",
       "\n",
       "    .dataframe tbody tr th {\n",
       "        vertical-align: top;\n",
       "    }\n",
       "\n",
       "    .dataframe thead th {\n",
       "        text-align: right;\n",
       "    }\n",
       "</style>\n",
       "<table border=\"1\" class=\"dataframe\">\n",
       "  <thead>\n",
       "    <tr style=\"text-align: right;\">\n",
       "      <th></th>\n",
       "      <th>app_id</th>\n",
       "      <th>app_name</th>\n",
       "      <th>review_text</th>\n",
       "      <th>review_score</th>\n",
       "      <th>review_votes</th>\n",
       "    </tr>\n",
       "  </thead>\n",
       "  <tbody>\n",
       "    <tr>\n",
       "      <th>301327</th>\n",
       "      <td>12210</td>\n",
       "      <td>Grand Theft Auto IV: The Complete Edition</td>\n",
       "      <td>Best bowling simulator 2014 10/10 It has good ...</td>\n",
       "      <td>1</td>\n",
       "      <td>1</td>\n",
       "    </tr>\n",
       "    <tr>\n",
       "      <th>1662500</th>\n",
       "      <td>226320</td>\n",
       "      <td>Marvel Heroes Omega</td>\n",
       "      <td>Marvel characters? Check. Tons of loot? Check....</td>\n",
       "      <td>1</td>\n",
       "      <td>0</td>\n",
       "    </tr>\n",
       "    <tr>\n",
       "      <th>2061157</th>\n",
       "      <td>236450</td>\n",
       "      <td>PAC-MAN Championship Edition DX+</td>\n",
       "      <td>This game while its not the original is defina...</td>\n",
       "      <td>1</td>\n",
       "      <td>0</td>\n",
       "    </tr>\n",
       "    <tr>\n",
       "      <th>1171799</th>\n",
       "      <td>218620</td>\n",
       "      <td>PAYDAY 2</td>\n",
       "      <td>This game ♥♥♥♥ing awesome ,You can be professi...</td>\n",
       "      <td>1</td>\n",
       "      <td>0</td>\n",
       "    </tr>\n",
       "    <tr>\n",
       "      <th>1450080</th>\n",
       "      <td>221640</td>\n",
       "      <td>Super Hexagon</td>\n",
       "      <td>If you are high, play this game. 420/420 would...</td>\n",
       "      <td>1</td>\n",
       "      <td>0</td>\n",
       "    </tr>\n",
       "  </tbody>\n",
       "</table>\n",
       "</div>"
      ],
      "text/plain": [
       "         app_id                                   app_name  \\\n",
       "301327    12210  Grand Theft Auto IV: The Complete Edition   \n",
       "1662500  226320                        Marvel Heroes Omega   \n",
       "2061157  236450           PAC-MAN Championship Edition DX+   \n",
       "1171799  218620                                   PAYDAY 2   \n",
       "1450080  221640                              Super Hexagon   \n",
       "\n",
       "                                               review_text  review_score  \\\n",
       "301327   Best bowling simulator 2014 10/10 It has good ...             1   \n",
       "1662500  Marvel characters? Check. Tons of loot? Check....             1   \n",
       "2061157  This game while its not the original is defina...             1   \n",
       "1171799  This game ♥♥♥♥ing awesome ,You can be professi...             1   \n",
       "1450080  If you are high, play this game. 420/420 would...             1   \n",
       "\n",
       "         review_votes  \n",
       "301327              1  \n",
       "1662500             0  \n",
       "2061157             0  \n",
       "1171799             0  \n",
       "1450080             0  "
      ]
     },
     "execution_count": 4,
     "metadata": {},
     "output_type": "execute_result"
    }
   ],
   "source": [
    "df.head()"
   ]
  },
  {
   "cell_type": "code",
   "execution_count": 5,
   "metadata": {},
   "outputs": [
    {
     "name": "stdout",
     "output_type": "stream",
     "text": [
      "Marvel characters? Check. Tons of loot? Check. Tons of characters/classes? Check. Interesting events? Check. LFG? GTFO, You can solo this. Marvel fan? Diablo fan? Good this is for you. Not a marvel fan? Still better than D3 (2013).\n"
     ]
    }
   ],
   "source": [
    "print(df.iloc[1][\"review_text\"]) \n"
   ]
  },
  {
   "cell_type": "code",
   "execution_count": 6,
   "metadata": {},
   "outputs": [
    {
     "data": {
      "text/plain": [
       "review_score\n",
       " 1    526564\n",
       "-1    115147\n",
       "Name: count, dtype: int64"
      ]
     },
     "execution_count": 6,
     "metadata": {},
     "output_type": "execute_result"
    }
   ],
   "source": [
    "df['review_score'].value_counts()"
   ]
  },
  {
   "cell_type": "code",
   "execution_count": 7,
   "metadata": {},
   "outputs": [
    {
     "data": {
      "text/plain": [
       "(641711, 5)"
      ]
     },
     "execution_count": 7,
     "metadata": {},
     "output_type": "execute_result"
    }
   ],
   "source": [
    "df.shape"
   ]
  },
  {
   "cell_type": "code",
   "execution_count": 8,
   "metadata": {},
   "outputs": [
    {
     "data": {
      "text/plain": [
       "app_id              0\n",
       "app_name        18435\n",
       "review_text       695\n",
       "review_score        0\n",
       "review_votes        0\n",
       "dtype: int64"
      ]
     },
     "execution_count": 8,
     "metadata": {},
     "output_type": "execute_result"
    }
   ],
   "source": [
    "df.isnull().sum()"
   ]
  },
  {
   "cell_type": "code",
   "execution_count": 9,
   "metadata": {},
   "outputs": [
    {
     "name": "stdout",
     "output_type": "stream",
     "text": [
      "<class 'pandas.core.frame.DataFrame'>\n",
      "Index: 641711 entries, 301327 to 310755\n",
      "Data columns (total 5 columns):\n",
      " #   Column        Non-Null Count   Dtype \n",
      "---  ------        --------------   ----- \n",
      " 0   app_id        641711 non-null  int64 \n",
      " 1   app_name      623276 non-null  object\n",
      " 2   review_text   641016 non-null  object\n",
      " 3   review_score  641711 non-null  int64 \n",
      " 4   review_votes  641711 non-null  int64 \n",
      "dtypes: int64(3), object(2)\n",
      "memory usage: 29.4+ MB\n"
     ]
    }
   ],
   "source": [
    "df.info()"
   ]
  },
  {
   "cell_type": "code",
   "execution_count": 10,
   "metadata": {},
   "outputs": [
    {
     "data": {
      "text/html": [
       "<div>\n",
       "<style scoped>\n",
       "    .dataframe tbody tr th:only-of-type {\n",
       "        vertical-align: middle;\n",
       "    }\n",
       "\n",
       "    .dataframe tbody tr th {\n",
       "        vertical-align: top;\n",
       "    }\n",
       "\n",
       "    .dataframe thead th {\n",
       "        text-align: right;\n",
       "    }\n",
       "</style>\n",
       "<table border=\"1\" class=\"dataframe\">\n",
       "  <thead>\n",
       "    <tr style=\"text-align: right;\">\n",
       "      <th></th>\n",
       "      <th>app_id</th>\n",
       "      <th>app_name</th>\n",
       "      <th>review_text</th>\n",
       "      <th>review_score</th>\n",
       "      <th>review_votes</th>\n",
       "    </tr>\n",
       "  </thead>\n",
       "  <tbody>\n",
       "    <tr>\n",
       "      <th>301327</th>\n",
       "      <td>12210</td>\n",
       "      <td>Grand Theft Auto IV: The Complete Edition</td>\n",
       "      <td>Best bowling simulator 2014 10/10 It has good ...</td>\n",
       "      <td>1</td>\n",
       "      <td>1</td>\n",
       "    </tr>\n",
       "    <tr>\n",
       "      <th>1662500</th>\n",
       "      <td>226320</td>\n",
       "      <td>Marvel Heroes Omega</td>\n",
       "      <td>Marvel characters? Check. Tons of loot? Check....</td>\n",
       "      <td>1</td>\n",
       "      <td>0</td>\n",
       "    </tr>\n",
       "    <tr>\n",
       "      <th>2061157</th>\n",
       "      <td>236450</td>\n",
       "      <td>PAC-MAN Championship Edition DX+</td>\n",
       "      <td>This game while its not the original is defina...</td>\n",
       "      <td>1</td>\n",
       "      <td>0</td>\n",
       "    </tr>\n",
       "    <tr>\n",
       "      <th>1171799</th>\n",
       "      <td>218620</td>\n",
       "      <td>PAYDAY 2</td>\n",
       "      <td>This game ♥♥♥♥ing awesome ,You can be professi...</td>\n",
       "      <td>1</td>\n",
       "      <td>0</td>\n",
       "    </tr>\n",
       "    <tr>\n",
       "      <th>1450080</th>\n",
       "      <td>221640</td>\n",
       "      <td>Super Hexagon</td>\n",
       "      <td>If you are high, play this game. 420/420 would...</td>\n",
       "      <td>1</td>\n",
       "      <td>0</td>\n",
       "    </tr>\n",
       "  </tbody>\n",
       "</table>\n",
       "</div>"
      ],
      "text/plain": [
       "         app_id                                   app_name  \\\n",
       "301327    12210  Grand Theft Auto IV: The Complete Edition   \n",
       "1662500  226320                        Marvel Heroes Omega   \n",
       "2061157  236450           PAC-MAN Championship Edition DX+   \n",
       "1171799  218620                                   PAYDAY 2   \n",
       "1450080  221640                              Super Hexagon   \n",
       "\n",
       "                                               review_text  review_score  \\\n",
       "301327   Best bowling simulator 2014 10/10 It has good ...             1   \n",
       "1662500  Marvel characters? Check. Tons of loot? Check....             1   \n",
       "2061157  This game while its not the original is defina...             1   \n",
       "1171799  This game ♥♥♥♥ing awesome ,You can be professi...             1   \n",
       "1450080  If you are high, play this game. 420/420 would...             1   \n",
       "\n",
       "        review_votes  \n",
       "301327             1  \n",
       "1662500            0  \n",
       "2061157            0  \n",
       "1171799            0  \n",
       "1450080            0  "
      ]
     },
     "execution_count": 10,
     "metadata": {},
     "output_type": "execute_result"
    }
   ],
   "source": [
    "df[\"review_text\"] = df[\"review_text\"].astype(str)\n",
    "df[\"review_votes\"] = df[\"review_votes\"].astype(str)\n",
    "\n",
    "df.review_text = df.review_text.apply(lambda s : s.strip())\n",
    "df1 =df[df[\"review_score\"].notnull()]\n",
    "df1[\"review_score\"] = np.where(df1[\"review_score\"] == -1,0, df1[\"review_score\"])\n",
    "df1.head()"
   ]
  },
  {
   "cell_type": "code",
   "execution_count": 11,
   "metadata": {},
   "outputs": [
    {
     "data": {
      "text/plain": [
       "review_score\n",
       "1    526564\n",
       "0    115147\n",
       "Name: count, dtype: int64"
      ]
     },
     "execution_count": 11,
     "metadata": {},
     "output_type": "execute_result"
    }
   ],
   "source": [
    "df1[\"review_score\"].value_counts()"
   ]
  },
  {
   "cell_type": "code",
   "execution_count": 12,
   "metadata": {},
   "outputs": [],
   "source": [
    "df1 = df1[df1.review_text != \"Early Access Review\"]\n",
    "df1 = df1[~df1.review_text.isin(['nan'])]\n",
    "\n",
    "df1.drop_duplicates(['review_text', 'review_score'], inplace= True)\n"
   ]
  },
  {
   "cell_type": "code",
   "execution_count": 13,
   "metadata": {},
   "outputs": [
    {
     "data": {
      "text/html": [
       "<div>\n",
       "<style scoped>\n",
       "    .dataframe tbody tr th:only-of-type {\n",
       "        vertical-align: middle;\n",
       "    }\n",
       "\n",
       "    .dataframe tbody tr th {\n",
       "        vertical-align: top;\n",
       "    }\n",
       "\n",
       "    .dataframe thead th {\n",
       "        text-align: right;\n",
       "    }\n",
       "</style>\n",
       "<table border=\"1\" class=\"dataframe\">\n",
       "  <thead>\n",
       "    <tr style=\"text-align: right;\">\n",
       "      <th></th>\n",
       "      <th>app_id</th>\n",
       "      <th>app_name</th>\n",
       "      <th>review_text</th>\n",
       "      <th>review_score</th>\n",
       "      <th>review_votes</th>\n",
       "    </tr>\n",
       "  </thead>\n",
       "  <tbody>\n",
       "    <tr>\n",
       "      <th>301327</th>\n",
       "      <td>12210</td>\n",
       "      <td>Grand Theft Auto IV: The Complete Edition</td>\n",
       "      <td>Best bowling simulator 2014 10/10 It has good ...</td>\n",
       "      <td>1</td>\n",
       "      <td>1</td>\n",
       "    </tr>\n",
       "    <tr>\n",
       "      <th>1662500</th>\n",
       "      <td>226320</td>\n",
       "      <td>Marvel Heroes Omega</td>\n",
       "      <td>Marvel characters? Check. Tons of loot? Check....</td>\n",
       "      <td>1</td>\n",
       "      <td>0</td>\n",
       "    </tr>\n",
       "    <tr>\n",
       "      <th>2061157</th>\n",
       "      <td>236450</td>\n",
       "      <td>PAC-MAN Championship Edition DX+</td>\n",
       "      <td>This game while its not the original is defina...</td>\n",
       "      <td>1</td>\n",
       "      <td>0</td>\n",
       "    </tr>\n",
       "    <tr>\n",
       "      <th>1171799</th>\n",
       "      <td>218620</td>\n",
       "      <td>PAYDAY 2</td>\n",
       "      <td>This game ♥♥♥♥ing awesome ,You can be professi...</td>\n",
       "      <td>1</td>\n",
       "      <td>0</td>\n",
       "    </tr>\n",
       "    <tr>\n",
       "      <th>1450080</th>\n",
       "      <td>221640</td>\n",
       "      <td>Super Hexagon</td>\n",
       "      <td>If you are high, play this game. 420/420 would...</td>\n",
       "      <td>1</td>\n",
       "      <td>0</td>\n",
       "    </tr>\n",
       "  </tbody>\n",
       "</table>\n",
       "</div>"
      ],
      "text/plain": [
       "         app_id                                   app_name  \\\n",
       "301327    12210  Grand Theft Auto IV: The Complete Edition   \n",
       "1662500  226320                        Marvel Heroes Omega   \n",
       "2061157  236450           PAC-MAN Championship Edition DX+   \n",
       "1171799  218620                                   PAYDAY 2   \n",
       "1450080  221640                              Super Hexagon   \n",
       "\n",
       "                                               review_text  review_score  \\\n",
       "301327   Best bowling simulator 2014 10/10 It has good ...             1   \n",
       "1662500  Marvel characters? Check. Tons of loot? Check....             1   \n",
       "2061157  This game while its not the original is defina...             1   \n",
       "1171799  This game ♥♥♥♥ing awesome ,You can be professi...             1   \n",
       "1450080  If you are high, play this game. 420/420 would...             1   \n",
       "\n",
       "        review_votes  \n",
       "301327             1  \n",
       "1662500            0  \n",
       "2061157            0  \n",
       "1171799            0  \n",
       "1450080            0  "
      ]
     },
     "execution_count": 13,
     "metadata": {},
     "output_type": "execute_result"
    }
   ],
   "source": [
    "df1.head()"
   ]
  },
  {
   "cell_type": "code",
   "execution_count": 14,
   "metadata": {},
   "outputs": [
    {
     "data": {
      "text/plain": [
       "(515744, 5)"
      ]
     },
     "execution_count": 14,
     "metadata": {},
     "output_type": "execute_result"
    }
   ],
   "source": [
    "df1.shape"
   ]
  },
  {
   "cell_type": "code",
   "execution_count": 15,
   "metadata": {},
   "outputs": [
    {
     "name": "stdout",
     "output_type": "stream",
     "text": [
      "                                               review_text     emojis_found\n",
      "1171799  This game ♥♥♥♥ing awesome ,You can be professi...             ♥♥♥♥\n",
      "3403956  I hope the game is good, but I CAN'T EVEN STAR...             ♥♥♥♥\n",
      "1052101  Once a good game, then turned to ♥♥♥♥ by a 'ba...             ♥♥♥♥\n",
      "2549863  'God, I'm going fast...God, that was close...G...             ♥♥♥♥\n",
      "2953816  -Buy game during sale -buy it for your friend ...             ♥♥♥♥\n",
      "...                                                    ...              ...\n",
      "1645173  This is, without a doubt, one of the best vide...                ♥\n",
      "5166673  so this game has been the biggest hassle to pl...  ♥♥♥♥♥♥♥♥♥♥♥♥♥♥♥\n",
      "5731061  After I have played ROME 2: TOTAL WAR ( best T...            ♥♥♥♥♥\n",
      "1164050  Gameplay is good, the game is seriously fun, b...             ♥♥♥♥\n",
      "310755   GTA 4 is probablly the first GTA where i got t...             ♥♥♥♥\n",
      "\n",
      "[36083 rows x 2 columns]\n"
     ]
    }
   ],
   "source": [
    "import emoji\n",
    "\n",
    "def extract_emojis(text):\n",
    "    return \"\".join(char for char in str(text) if char in emoji.EMOJI_DATA)\n",
    "\n",
    "df1['emojis_found'] = df1['review_text'].apply(extract_emojis)\n",
    "\n",
    "# Show only rows that have emojis\n",
    "df_reviews_with_emojis = df1[df1['emojis_found'] != '']\n",
    "print(df_reviews_with_emojis[['review_text', 'emojis_found']])"
   ]
  },
  {
   "cell_type": "code",
   "execution_count": 16,
   "metadata": {},
   "outputs": [],
   "source": [
    "def replace_hearts_with_PAD(text):\n",
    "    return re.sub(r\"[♥]+\", ' **** ' ,text)"
   ]
  },
  {
   "cell_type": "code",
   "execution_count": 17,
   "metadata": {},
   "outputs": [],
   "source": [
    "def clean(raw):\n",
    "    \"\"\" Remove hyperlinks and markup \"\"\"\n",
    "    result = re.sub(\"<[a][^>]*>(.+?)</[a]>\", 'Link.', raw)\n",
    "    result = re.sub('&gt;', \"\", result)\n",
    "    result = re.sub('&#x27;', \"'\", result)\n",
    "    result = re.sub('&quot;', '\"', result)\n",
    "    result = re.sub('&#x2F;', ' ', result)\n",
    "    result = re.sub('<p>', ' ', result)\n",
    "    result = re.sub('</i>', '', result)\n",
    "    result = re.sub('&#62;', '', result)\n",
    "    result = re.sub('<i>', ' ', result)\n",
    "    result = re.sub(\"\\n\", '', result)\n",
    "    return result"
   ]
  },
  {
   "cell_type": "code",
   "execution_count": 18,
   "metadata": {},
   "outputs": [],
   "source": [
    "def deEmojify(x):\n",
    "    regrex_pattern = re.compile(pattern = \"[\"\n",
    "        u\"\\U0001F600-\\U0001F64F\"  # emoticons\n",
    "        u\"\\U0001F300-\\U0001F5FF\"  # symbols & pictographs\n",
    "        u\"\\U0001F680-\\U0001F6FF\"  # transport & map symbols\n",
    "        u\"\\U0001F1E0-\\U0001F1FF\"  # flags (iOS)\n",
    "                           \"]+\", flags = re.UNICODE)\n",
    "    return regrex_pattern.sub(r'', x)"
   ]
  },
  {
   "cell_type": "code",
   "execution_count": 19,
   "metadata": {},
   "outputs": [],
   "source": [
    "def remove_num(texts):\n",
    "    output = re.sub(r'\\d+', '', texts )\n",
    "    return output"
   ]
  },
  {
   "cell_type": "code",
   "execution_count": 20,
   "metadata": {},
   "outputs": [],
   "source": [
    "def unify_whitespaces(text):\n",
    "    cleaned_string = re.sub(' +', ' ', text )\n",
    "    return cleaned_string"
   ]
  },
  {
   "cell_type": "code",
   "execution_count": 21,
   "metadata": {},
   "outputs": [],
   "source": [
    "def remove_punctuation(text):\n",
    "    result = \"\".join(u for u in text if u not in (\"?\", \".\", \";\", \":\",  \"!\",'\"',',') )\n",
    "    return result"
   ]
  },
  {
   "cell_type": "code",
   "execution_count": 22,
   "metadata": {},
   "outputs": [],
   "source": [
    "import spacy\n",
    "from spacy.lang.en.stop_words import STOP_WORDS\n",
    "\n",
    "nlp = spacy.load(\"en_core_web_sm\")\n",
    "\n",
    "def remove_stopwords(text):\n",
    "    doc = nlp(text)\n",
    "    text = [token.text.lower() for token in doc if token.text.lower() not in STOP_WORDS]\n",
    "    return ' '.join(text)"
   ]
  },
  {
   "cell_type": "code",
   "execution_count": 23,
   "metadata": {},
   "outputs": [],
   "source": [
    "from spacy.lang.en.stop_words import STOP_WORDS\n",
    "\n",
    "nlp = spacy.load(\"en_core_web_sm\")\n",
    "\n",
    "def stemming(text):\n",
    "    doc = nlp(text)\n",
    "    stemmed_words = [token.lemma_ for token in doc if token.text.lower() not in STOP_WORDS]\n",
    "    return ' '.join(stemmed_words)\n"
   ]
  },
  {
   "cell_type": "code",
   "execution_count": null,
   "metadata": {},
   "outputs": [],
   "source": [
    "def cleaning(df, review):\n",
    "    df_processed = df.copy()\n",
    "    df_processed[review] = df_processed['review_text']\n",
    "    df_processed[review] = df_processed[review].apply(clean)\n",
    "    df_processed[review] = df_processed[review].apply(deEmojify)\n",
    "    df_processed[review] = df_processed[review].apply(replace_hearts_with_PAD)\n",
    "    df_processed[review] = df_processed[review].apply(remove_num)\n",
    "    df_processed[review] = df_processed[review].apply(remove_punctuation)\n",
    "    df_processed[review] = df_processed[review].apply(remove_stopwords)\n",
    "    df_processed[review] = df_processed[review].apply(unify_whitespaces)\n",
    "    df_processed[review] = df_processed[review].apply(Stemming)\n",
    "    return df_processed\n",
    "\n",
    "df_processed = cleaning(df1, 'review_text_clean' )"
   ]
  },
  {
   "cell_type": "code",
   "execution_count": 67,
   "metadata": {},
   "outputs": [
    {
     "name": "stdout",
     "output_type": "stream",
     "text": [
      "                                 review_text              processed_text\n",
      "0         I love this product! It's amazing.    love product ! amazing .\n",
      "1  This is the worst thing I've ever bought.             bad thing buy .\n",
      "2          Quality is good, would recommend.  quality good , recommend .\n"
     ]
    }
   ],
   "source": [
    "import spacy\n",
    "import pandas as pd\n",
    "\n",
    "# Load spaCy model\n",
    "nlp = spacy.load('en_core_web_sm')\n",
    "\n",
    "# Example text\n",
    "text = \"This is a simple sentence, and I love programming.\"\n",
    "\n",
    "# Function to remove stopwords and perform stemming\n",
    "def preprocess_text(text):\n",
    "    # Parse text with spaCy\n",
    "    doc = nlp(text)\n",
    "    \n",
    "    # Remove stopwords and perform stemming\n",
    "    processed_text = \" \".join([token.lemma_ for token in doc if not token.is_stop])\n",
    "    \n",
    "    return processed_text\n",
    "\n",
    "# Sample dataframe with review text\n",
    "df = pd.DataFrame({\n",
    "    'review_text': [\n",
    "        \"I love this product! It's amazing.\",\n",
    "        \"This is the worst thing I've ever bought.\",\n",
    "        \"Quality is good, would recommend.\"\n",
    "    ]\n",
    "})\n",
    "\n",
    "# Apply preprocessing\n",
    "df['processed_text'] = df['review_text'].apply(preprocess_text)\n",
    "\n",
    "print(df[['review_text', 'processed_text']])"
   ]
  },
  {
   "cell_type": "code",
   "execution_count": null,
   "metadata": {},
   "outputs": [],
   "source": []
  }
 ],
 "metadata": {
  "kernelspec": {
   "display_name": "Topic",
   "language": "python",
   "name": "python3"
  },
  "language_info": {
   "codemirror_mode": {
    "name": "ipython",
    "version": 3
   },
   "file_extension": ".py",
   "mimetype": "text/x-python",
   "name": "python",
   "nbconvert_exporter": "python",
   "pygments_lexer": "ipython3",
   "version": "3.9.21"
  }
 },
 "nbformat": 4,
 "nbformat_minor": 2
}
